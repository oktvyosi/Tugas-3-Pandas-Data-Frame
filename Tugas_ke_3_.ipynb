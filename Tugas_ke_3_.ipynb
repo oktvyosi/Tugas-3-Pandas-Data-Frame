{
  "nbformat": 4,
  "nbformat_minor": 0,
  "metadata": {
    "colab": {
      "provenance": []
    },
    "kernelspec": {
      "name": "python3",
      "display_name": "Python 3"
    },
    "language_info": {
      "name": "python"
    }
  },
  "cells": [
    {
      "cell_type": "code",
      "source": [
        "import pandas as pd\n",
        "\n",
        "last_names = ['Fasi', 'Ginan', 'Moja']\n",
        "first_names = ['Gio', 'John', 'Moci']\n",
        "\n",
        "df = pd.DataFrame({\n",
        "    'first_name': first_names,\n",
        "    'last_name': last_names,\n",
        "})\n",
        "\n",
        "url = \"url = \"https://github.com/oktvyosi/PrakFiskom1_Pendahuluan\"\n",
        "database = pd.read_excel(url)\n",
        "''' pd.read_csv('data.csv')'''\n",
        "print(database.columns)\n",
        "print(database.describe())\n",
        "print(database.head())\n",
        "print(database.tail())\n"
      ],
      "metadata": {
        "id": "TbBOVQJBpF6J"
      },
      "execution_count": null,
      "outputs": []
    },
    {
      "cell_type": "code",
      "source": [
        "import numpy as np\n",
        "\n",
        "x = [i for i in range(0, 10)]\n",
        "y = np.sin(x)\n",
        "\n",
        "x_new = [i for i in range(10, 20)]\n",
        "y_new = np.cos(x_new)\n",
        "\n",
        "print(x, y)\n"
      ],
      "metadata": {
        "colab": {
          "base_uri": "https://localhost:8080/"
        },
        "id": "OoARlP4fbnQd",
        "outputId": "63eaf562-57c4-44bc-ee9c-b9e76c34b703"
      },
      "execution_count": 5,
      "outputs": [
        {
          "output_type": "stream",
          "name": "stdout",
          "text": [
            "[0, 1, 2, 3, 4, 5, 6, 7, 8, 9] [ 0.          0.84147098  0.90929743  0.14112001 -0.7568025  -0.95892427\n",
            " -0.2794155   0.6569866   0.98935825  0.41211849]\n"
          ]
        }
      ]
    },
    {
      "cell_type": "code",
      "source": [
        "dataframe = pd.DataFrame({\n",
        "    'x': x_new,\n",
        "    'y': y_new,\n",
        "})\n",
        "\n",
        "dataframe['z'] = np.sin(x_new)\n",
        "\n",
        "print(dataframe)"
      ],
      "metadata": {
        "colab": {
          "base_uri": "https://localhost:8080/"
        },
        "id": "P_2aUHIrcYvq",
        "outputId": "8d51f196-6a52-4cbb-f9d6-7d3bda33895f"
      },
      "execution_count": 6,
      "outputs": [
        {
          "output_type": "stream",
          "name": "stdout",
          "text": [
            "    x         y         z\n",
            "0  10 -0.839072 -0.544021\n",
            "1  11  0.004426 -0.999990\n",
            "2  12  0.843854 -0.536573\n",
            "3  13  0.907447  0.420167\n",
            "4  14  0.136737  0.990607\n",
            "5  15 -0.759688  0.650288\n",
            "6  16 -0.957659 -0.287903\n",
            "7  17 -0.275163 -0.961397\n",
            "8  18  0.660317 -0.750987\n",
            "9  19  0.988705  0.149877\n"
          ]
        }
      ]
    }
  ]
}